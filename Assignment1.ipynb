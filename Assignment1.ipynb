{
 "cells": [
  {
   "cell_type": "code",
   "execution_count": 1,
   "metadata": {},
   "outputs": [],
   "source": [
    "import re"
   ]
  },
  {
   "cell_type": "code",
   "execution_count": 14,
   "metadata": {},
   "outputs": [
    {
     "name": "stdout",
     "output_type": "stream",
     "text": [
      "['23', '25', '29']\n"
     ]
    }
   ],
   "source": [
    "sent =\"They told that their ages are 23,25 and 29.\"\n",
    "sent_list1=re.findall('\\d+',sent)\n",
    "print(sent_list1)"
   ]
  },
  {
   "cell_type": "code",
   "execution_count": 4,
   "metadata": {},
   "outputs": [
    {
     "name": "stdout",
     "output_type": "stream",
     "text": [
      "the average of the ages is  25.666666666666668\n"
     ]
    }
   ],
   "source": [
    "sent_list1=list(int(i) for i in sent_list1)\n",
    "sent_list1\n",
    "print(\"the average of the ages is \",sum(sent_list1)/len(sent_list1))"
   ]
  },
  {
   "cell_type": "code",
   "execution_count": 11,
   "metadata": {},
   "outputs": [
    {
     "name": "stdout",
     "output_type": "stream",
     "text": [
      "The count of words starting with t/T are 4\n"
     ]
    }
   ],
   "source": [
    "sent_list2=re.findall('[tT]\\w+',sent)\n",
    "print(\"The count of words starting with t/T are\",len(sent_list2))"
   ]
  },
  {
   "cell_type": "code",
   "execution_count": 12,
   "metadata": {},
   "outputs": [],
   "source": [
    "import string\n",
    "punc =string.punctuation\n"
   ]
  },
  {
   "cell_type": "code",
   "execution_count": 17,
   "metadata": {},
   "outputs": [
    {
     "name": "stdout",
     "output_type": "stream",
     "text": [
      "the total punctuation symbols are  2\n"
     ]
    }
   ],
   "source": [
    "sent_list3=re.findall(f'[{punc}]',sent)\n",
    "print(\"the total punctuation symbols are \",len(sent_list3))\n"
   ]
  },
  {
   "cell_type": "code",
   "execution_count": 22,
   "metadata": {},
   "outputs": [
    {
     "name": "stdout",
     "output_type": "stream",
     "text": [
      "The uppercase words ending with d are  ['TOLD', 'AND']\n"
     ]
    }
   ],
   "source": [
    "sent_list4=re.findall('\\w+d',sent)\n",
    "print(\"The uppercase words ending with d are \",list(str(i).upper() for i in sent_list4))"
   ]
  },
  {
   "cell_type": "code",
   "execution_count": null,
   "metadata": {},
   "outputs": [],
   "source": []
  }
 ],
 "metadata": {
  "kernelspec": {
   "display_name": "base",
   "language": "python",
   "name": "python3"
  },
  "language_info": {
   "codemirror_mode": {
    "name": "ipython",
    "version": 3
   },
   "file_extension": ".py",
   "mimetype": "text/x-python",
   "name": "python",
   "nbconvert_exporter": "python",
   "pygments_lexer": "ipython3",
   "version": "3.11.5"
  }
 },
 "nbformat": 4,
 "nbformat_minor": 2
}
