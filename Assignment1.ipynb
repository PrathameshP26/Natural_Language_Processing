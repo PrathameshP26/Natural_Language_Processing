{
 "cells": [
  {
   "cell_type": "code",
   "execution_count": 2,
   "metadata": {},
   "outputs": [],
   "source": [
    "import re"
   ]
  },
  {
   "cell_type": "code",
   "execution_count": 3,
   "metadata": {},
   "outputs": [
    {
     "name": "stdout",
     "output_type": "stream",
     "text": [
      "['23', '25', '29']\n"
     ]
    }
   ],
   "source": [
    "sent =\"They told that their ages are 23,25 and 29 respectively.\"\n",
    "sent_list1=re.findall('\\d+',sent)\n",
    "print(sent_list1)"
   ]
  },
  {
   "cell_type": "code",
   "execution_count": 4,
   "metadata": {},
   "outputs": [
    {
     "name": "stdout",
     "output_type": "stream",
     "text": [
      "the average of the ages is  25.666666666666668\n"
     ]
    }
   ],
   "source": [
    "sent_list1=list(int(i) for i in sent_list1)\n",
    "sent_list1\n",
    "print(\"the average of the ages is \",sum(sent_list1)/len(sent_list1))"
   ]
  },
  {
   "cell_type": "code",
   "execution_count": 5,
   "metadata": {},
   "outputs": [
    {
     "name": "stdout",
     "output_type": "stream",
     "text": [
      "The count of words starting with t/T are 5\n"
     ]
    }
   ],
   "source": [
    "sent_list2=re.findall('[tT]\\w+',sent)\n",
    "print(\"The count of words starting with t/T are\",len(sent_list2))"
   ]
  },
  {
   "cell_type": "code",
   "execution_count": 6,
   "metadata": {},
   "outputs": [],
   "source": [
    "import string\n",
    "punc =string.punctuation\n"
   ]
  },
  {
   "cell_type": "code",
   "execution_count": 7,
   "metadata": {},
   "outputs": [
    {
     "name": "stdout",
     "output_type": "stream",
     "text": [
      "the total punctuation symbols are  2\n"
     ]
    }
   ],
   "source": [
    "sent_list3=re.findall(f'[{punc}]',sent)\n",
    "print(\"the total punctuation symbols are \",len(sent_list3))\n"
   ]
  },
  {
   "cell_type": "code",
   "execution_count": 8,
   "metadata": {},
   "outputs": [
    {
     "name": "stdout",
     "output_type": "stream",
     "text": [
      "The uppercase words ending with d are  ['TOLD', 'AND']\n"
     ]
    }
   ],
   "source": [
    "sent_list4=re.findall('\\w+d',sent)\n",
    "print(\"The uppercase words ending with d are \",list(str(i).upper() for i in sent_list4))"
   ]
  },
  {
   "cell_type": "code",
   "execution_count": 9,
   "metadata": {},
   "outputs": [
    {
     "name": "stdout",
     "output_type": "stream",
     "text": [
      "They told that their ages are 2325 and 29 respectively\n"
     ]
    }
   ],
   "source": [
    "#Q1)5\n",
    "import string\n",
    "punc=string.punctuation\n",
    "str1 = ''.join([text for text in sent if text not in punc])\n",
    "print(str1)"
   ]
  },
  {
   "cell_type": "code",
   "execution_count": 10,
   "metadata": {},
   "outputs": [],
   "source": [
    "sent2 = '''The national flag of India, colloquially called Tiraṅgā (the tricolour), is a horizontal rectangular tricolour flag, the colours being of India saffron, white and India green;\n",
    "with the Ashoka Chakra, a 24-spoke wheel, in navy blue at its centre.\n",
    "It was adopted in its present form during a meeting of the Constituent Assembly held on 22 July 1947, and it became the official flag of the Union of India on 15 August 1947.\n",
    "The flag was subsequently retained as that of the Republic of India.\n",
    "In India, the term \"tricolour\" almost always refers to the Indian national flag.'''"
   ]
  },
  {
   "cell_type": "code",
   "execution_count": 11,
   "metadata": {},
   "outputs": [
    {
     "name": "stdout",
     "output_type": "stream",
     "text": [
      "The number of words in sentence is  94\n"
     ]
    }
   ],
   "source": [
    "#Q2 a\n",
    "word_list = sent2.split(' ')\n",
    "print(\"The number of words in sentence is \",len(word_list))"
   ]
  }
 ],
 "metadata": {
  "kernelspec": {
   "display_name": "base",
   "language": "python",
   "name": "python3"
  },
  "language_info": {
   "codemirror_mode": {
    "name": "ipython",
    "version": 3
   },
   "file_extension": ".py",
   "mimetype": "text/x-python",
   "name": "python",
   "nbconvert_exporter": "python",
   "pygments_lexer": "ipython3",
   "version": "3.11.5"
  }
 },
 "nbformat": 4,
 "nbformat_minor": 2
}
